{
 "cells": [
  {
   "cell_type": "code",
   "execution_count": 16,
   "id": "2bb50844-a6d7-415c-ab34-86d71b819132",
   "metadata": {},
   "outputs": [],
   "source": [
    "\"\"\"Q1. What is Abstraction in OOps? Explain with an example.\n",
    "\n",
    "Answer:1 \n",
    "\n",
    "Abstraction :- In python Abstraction is a process of hiding internal implementation detail from  user and showing only services or few services.\n",
    "\n",
    "Example of Abstraction.\"\"\"\n",
    "\n",
    "from abc import ABC, abstractmethod\n",
    "class car(ABC):\n",
    "    def mileage(self):\n",
    "        pass\n",
    "class audi(car):\n",
    "    def mileage(self):\n",
    "        print(\"the mileage is 30kmph\")\n",
    "        \n",
    "class bmw(car):\n",
    "    def mileage(self):\n",
    "        print(\"the mileage is 28kmph\")\n",
    "        \n",
    "class tesla(car):\n",
    "    def mileage(self):\n",
    "        print(\"the mileage is 35kmph\")"
   ]
  },
  {
   "cell_type": "code",
   "execution_count": 17,
   "id": "b4b0f278-c368-445c-b159-6d1c255201e1",
   "metadata": {},
   "outputs": [
    {
     "name": "stdout",
     "output_type": "stream",
     "text": [
      "the mileage is 30kmph\n",
      "the mileage is 28kmph\n",
      "the mileage is 35kmph\n"
     ]
    }
   ],
   "source": [
    "obj_a = audi()\n",
    "obj_a.mileage()\n",
    "obj_b = bmw()\n",
    "obj_b.mileage()\n",
    "obj_t = tesla()\n",
    "obj_t.mileage()"
   ]
  },
  {
   "cell_type": "code",
   "execution_count": 19,
   "id": "919433c7-9439-4d1a-94c3-53634dee0446",
   "metadata": {},
   "outputs": [],
   "source": [
    "\"\"\"Q2. Differentiate between Abstraction and Encapsulation. Explain with an example.\n",
    "\n",
    "Answer:2\n",
    "\n",
    "            Abstraction                                                 Encapsulation\n",
    "*It is the process of gaining information.     *It is a method that helps wrap up data into a single module.    \n",
    "*The problems in this technique are solved     *Problems in encapsulation are solved at the implementation level.\n",
    "at the interface level.\"\"\"\n",
    "\n",
    "from abc import ABC, abstractmethod\n",
    "# Abstraction: Define an abstract class with abstract method\n",
    "class Shape(ABC):\n",
    "    @abstractmethod\n",
    "    def calculate_area(self):\n",
    "        pass\n",
    "\n",
    "# Encapsulation: Implement a concrete class with encapsulated attributes and methods\n",
    "class Circle(Shape):\n",
    "    def __init__(self, radius):\n",
    "        # Encapsulation: Private attribute\n",
    "        self.__radius = radius\n",
    "\n",
    "    def calculate_area(self):\n",
    "        # Encapsulation: Accessing private attribute\n",
    "        return 3.14 * self.__radius * self.__radius\n",
    "    \n"
   ]
  },
  {
   "cell_type": "code",
   "execution_count": 21,
   "id": "dfbbbbcd-36d4-463b-a09a-bbf55a1b72f6",
   "metadata": {},
   "outputs": [
    {
     "name": "stdout",
     "output_type": "stream",
     "text": [
      "Circle Area: 78.5\n"
     ]
    }
   ],
   "source": [
    "# Client code using abstraction and encapsulation\n",
    "circle = Circle(5)\n",
    "area = circle.calculate_area()\n",
    "\n",
    "print(\"Circle Area:\", area)"
   ]
  },
  {
   "cell_type": "code",
   "execution_count": null,
   "id": "e14362b1-61e5-4e1d-bf14-f2688fc531e9",
   "metadata": {},
   "outputs": [],
   "source": [
    "\"\"\"Q3. What is abc module in python? Why is it used?\n",
    "\n",
    "Answer:3 \n",
    "\n",
    "*It stands for the abstract base class and is a concept in Python classes based on abstraction.\n",
    "*Python is not a fully object-oriented programming language but it supports the features like \n",
    "abstract classes and abstraction. We cannot create abstract classes directly in Python, so\n",
    "Python provides a module called abc that provides the infrastructure for defining the base \n",
    "of Abstract Base Classes(ABC). \"\"\""
   ]
  },
  {
   "cell_type": "code",
   "execution_count": null,
   "id": "5f7de329-0a33-4ede-8e0e-1ca4f75d0abd",
   "metadata": {},
   "outputs": [],
   "source": [
    "\"\"\"Q4. How can we achieve data abstraction?\n",
    "\n",
    "Answer:4\n",
    "\n",
    "We can define an abstract method using @abstractmethod keyword on the top of a method. \n",
    "We can use abc module of python to achieve data abstraction in python. To define an abstract\n",
    "method in python we can import abstractmethod from the abc module of python. \"\"\""
   ]
  },
  {
   "cell_type": "code",
   "execution_count": null,
   "id": "b57167ee-fe48-4aea-a2d3-943acd750970",
   "metadata": {},
   "outputs": [],
   "source": [
    "\"\"\"Q5. Can we create an instance of an abstract class? Explain your answer.\n",
    "\n",
    "Answer:5\n",
    "\n",
    "Abstract classes are not complete, as they may have some methods that are not defined. So we cannot create an instance or \n",
    "object of an abstract class in Python.\"\"\""
   ]
  }
 ],
 "metadata": {
  "kernelspec": {
   "display_name": "Python 3 (ipykernel)",
   "language": "python",
   "name": "python3"
  },
  "language_info": {
   "codemirror_mode": {
    "name": "ipython",
    "version": 3
   },
   "file_extension": ".py",
   "mimetype": "text/x-python",
   "name": "python",
   "nbconvert_exporter": "python",
   "pygments_lexer": "ipython3",
   "version": "3.10.8"
  }
 },
 "nbformat": 4,
 "nbformat_minor": 5
}
